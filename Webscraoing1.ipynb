{
  "nbformat": 4,
  "nbformat_minor": 0,
  "metadata": {
    "colab": {
      "provenance": [],
      "authorship_tag": "ABX9TyOHsZo/dbn3CqXiaNIOxM1i",
      "include_colab_link": true
    },
    "kernelspec": {
      "name": "python3",
      "display_name": "Python 3"
    },
    "language_info": {
      "name": "python"
    }
  },
  "cells": [
    {
      "cell_type": "markdown",
      "metadata": {
        "id": "view-in-github",
        "colab_type": "text"
      },
      "source": [
        "<a href=\"https://colab.research.google.com/github/seve-cmk/TradingAPP/blob/main/Webscraoing1.ipynb\" target=\"_parent\"><img src=\"https://colab.research.google.com/assets/colab-badge.svg\" alt=\"Open In Colab\"/></a>"
      ]
    },
    {
      "cell_type": "code",
      "execution_count": null,
      "metadata": {
        "id": "EWVjvuaSDNOp"
      },
      "outputs": [],
      "source": [
        "import pandas as pd\n",
        "import numpy as np\n",
        "import requests\n",
        "import bs4\n",
        "from bs4 import BeautifulSoup"
      ]
    },
    {
      "cell_type": "markdown",
      "source": [
        "#SP500"
      ],
      "metadata": {
        "id": "TNbOhNj-E6T5"
      }
    },
    {
      "cell_type": "code",
      "source": [
        "df = pd.read_html(\"https://en.wikipedia.org/wiki/List_of_S%26P_500_companies\")[0]\n",
        "df"
      ],
      "metadata": {
        "id": "UZFg1fjLE-CA"
      },
      "execution_count": null,
      "outputs": []
    },
    {
      "cell_type": "code",
      "source": [
        "tickers = df['Symbol'].to_list()\n",
        "tickers"
      ],
      "metadata": {
        "id": "2a1X2NuZbZhh"
      },
      "execution_count": null,
      "outputs": []
    },
    {
      "cell_type": "markdown",
      "source": [
        "#Dictionnaire"
      ],
      "metadata": {
        "id": "UfhKsO95AV1A"
      }
    },
    {
      "cell_type": "code",
      "source": [
        "tickers_companies_dict=dict(zip(df['Symbol'], df['Security']))\n",
        "tickers_companies_dict"
      ],
      "metadata": {
        "id": "H8SQqZPlZZSc"
      },
      "execution_count": null,
      "outputs": []
    },
    {
      "cell_type": "code",
      "source": [
        "def get_sp500_components():\n",
        "  df = pd.read_html(\"https://en.wikipedia.org/wiki/List_of_S%26P_500_companies\")[0]\n",
        "  tickers = df['Symbol'].to_list()\n",
        "  tickers_companies_dict = dict(zip(df['Symbol'], df['Security']))\n",
        "  return tickers, tickers_companies_dict\n"
      ],
      "metadata": {
        "id": "Smbi5wZsKPDy"
      },
      "execution_count": null,
      "outputs": []
    },
    {
      "cell_type": "markdown",
      "source": [
        "## utiliser de cette manière lapplication pour importer les données"
      ],
      "metadata": {
        "id": "G-IkRt7fMT8g"
      }
    },
    {
      "cell_type": "code",
      "source": [
        "import yfinance as yf"
      ],
      "metadata": {
        "id": "3tQ5A4nuMd1Y",
        "colab": {
          "base_uri": "https://localhost:8080/"
        },
        "outputId": "8ec23458-9b49-4fbf-a65a-21f27416ccb8"
      },
      "execution_count": 31,
      "outputs": [
        {
          "output_type": "stream",
          "name": "stderr",
          "text": [
            "/usr/local/lib/python3.10/dist-packages/yfinance/base.py:48: FutureWarning: The default dtype for empty Series will be 'object' instead of 'float64' in a future version. Specify a dtype explicitly to silence this warning.\n",
            "  _empty_series = pd.Series()\n"
          ]
        }
      ]
    },
    {
      "cell_type": "markdown",
      "source": [
        "## Fonction pour télécharger les données"
      ],
      "metadata": {
        "id": "DiaIglKANiJK"
      }
    },
    {
      "cell_type": "code",
      "source": [
        "def load_data(symbol,start,end):\n",
        "  return yf.download(symbol,start,end)\n"
      ],
      "metadata": {
        "id": "58J2F-0vMm_Y"
      },
      "execution_count": null,
      "outputs": []
    },
    {
      "cell_type": "code",
      "source": [
        "tickers_sp500, tickers_companies_dict_sp500 = get_sp500_components()"
      ],
      "metadata": {
        "id": "D2roJN2PNUo4"
      },
      "execution_count": null,
      "outputs": []
    },
    {
      "cell_type": "code",
      "source": [
        "## creons une variable pour les noms des entreprises"
      ],
      "metadata": {
        "id": "zXTFhDkuo_lv"
      },
      "execution_count": null,
      "outputs": []
    },
    {
      "cell_type": "code",
      "source": [
        "company = 'Nvidia'\n",
        "[c for c in tickers_companies_dict_sp500.keys() if tickers_companies_dict_sp500[c] == company]\n"
      ],
      "metadata": {
        "colab": {
          "base_uri": "https://localhost:8080/"
        },
        "id": "QOTy4AAuMS1z",
        "outputId": "539f3e69-c743-43b7-c5d2-1afc633f3457"
      },
      "execution_count": 39,
      "outputs": [
        {
          "output_type": "execute_result",
          "data": {
            "text/plain": [
              "['NVDA']"
            ]
          },
          "metadata": {},
          "execution_count": 39
        }
      ]
    },
    {
      "cell_type": "markdown",
      "source": [
        "utilisons la fonction load"
      ],
      "metadata": {
        "id": "02GAsYzoubCu"
      }
    },
    {
      "cell_type": "code",
      "source": [
        "import datetime\n",
        "NVDA_df = load_data( [c for c in tickers_companies_dict_sp500.keys() if tickers_companies_dict_sp500[c] == company],\n",
        "         start = datetime.date(2022,1,1),\n",
        "         end = datetime.date.today()\n",
        "         )\n",
        "NVDA_df"
      ],
      "metadata": {
        "id": "v9jCVY51uZnN"
      },
      "execution_count": null,
      "outputs": []
    },
    {
      "cell_type": "code",
      "source": [
        "all_sp500_df = load_data(\n",
        "    tickers_sp500,\n",
        "    start = datetime.date(2023,11,1),\n",
        "    end = datetime.date.today()\n",
        "\n",
        ")\n",
        "all_sp500_df"
      ],
      "metadata": {
        "id": "rep5gpLl1-gL"
      },
      "execution_count": null,
      "outputs": []
    },
    {
      "cell_type": "markdown",
      "source": [],
      "metadata": {
        "id": "repkd5fS63WW"
      }
    },
    {
      "cell_type": "markdown",
      "source": [
        "le Web Scraping des données boursière"
      ],
      "metadata": {
        "id": "29-4-oij66H0"
      }
    },
    {
      "cell_type": "code",
      "source": [
        "all_sp500_close_df = all_sp500_df['Close']\n",
        "all_sp500_close_df\n",
        "\n"
      ],
      "metadata": {
        "id": "tQs80sYS4fzO"
      },
      "execution_count": null,
      "outputs": []
    },
    {
      "cell_type": "code",
      "source": [
        "all_sp500_open_df = all_sp500_df['Open']\n",
        "all_sp500_open_df"
      ],
      "metadata": {
        "id": "VGixjkTc6EWw"
      },
      "execution_count": null,
      "outputs": []
    }
  ]
}